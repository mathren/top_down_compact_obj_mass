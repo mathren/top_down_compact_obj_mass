{
 "cells": [
  {
   "cell_type": "markdown",
   "metadata": {},
   "source": [
    "# Masses of compact remnant  from CO core masses\n",
    "author: [M. Renzo](mrenzo@flatironinstitute.org)"
   ]
  },
  {
   "cell_type": "code",
   "execution_count": null,
   "metadata": {},
   "outputs": [],
   "source": [
    "import numpy as np\n",
    "import sys\n",
    "import scipy\n",
    "from scipy.optimize import curve_fit"
   ]
  },
  {
   "cell_type": "code",
   "execution_count": null,
   "metadata": {},
   "outputs": [],
   "source": [
    "# optional for prettier plots\n",
    "sys.path.append('/mnt/home/mrenzo/codes/python_stuff/plotFunc/')\n",
    "from plotDefaults import set_plot_defaults_from_matplotlibrc"
   ]
  },
  {
   "cell_type": "code",
   "execution_count": null,
   "metadata": {},
   "outputs": [],
   "source": [
    "set_plot_defaults_from_matplotlibrc()"
   ]
  },
  {
   "cell_type": "markdown",
   "metadata": {},
   "source": [
    "# Introduction\n",
    "We want to develop a new mapping between star (and core) mass and compact object remnant for rapid population synthesis calculations.\n",
    "Our aim is to have one way to calculate this across the entire mass range (from neutron stars to above the pair-instability black hole mass gap).\n",
    "\n",
    "Moreover, we want the mapping to be continuous. This is not because it is a priori unphysical to have discontinuities, but because we don't want to artificially introduce features.\n",
    "\n",
    "The idea is to calculate the mass of the compact object remnant as total mass minus varius mass loss terms:\n",
    "\n",
    "$$ M_\\mathrm{remnant} = M_\\mathrm{tot} - \\left( \\Delta M_\\mathrm{PPI} + \\Delta M_\\mathrm{NLW} + \\Delta M_\\mathrm{SN} + \\Delta M_{\\nu, \\mathrm{core}} + \\Delta M_\\mathrm{lGRB} + \\cdots \\right) $$\n",
    "\n",
    "In this way, pre-explosion binary interactions reduce $M_\\mathrm{tot}$ already (and possibly modify the core masses), and then each mass loss process at core-collapse can be added separately.\n",
    "This can also be extended to add, say, long gamma-ray burst mass loss (as a function of core-spin), etc.\n",
    "\n",
    "Note that while \"building\" the compact object mass from the bottom up (e.g., the [Fryer et al. 2012](https://ui.adsabs.harvard.edu/abs/2012ApJ...749...91F/abstract) approach of starting with a proto neutron star\n",
    "mass and accrete the fallback on it) makes it very difficult to use observationally informed values for some of the terms in parenthesis. Conversely, in our approach of \"building\" the compact object by removing\n",
    "from the total mass the ejecta, we can easily use observationally informed quantities for each term here. \n",
    "\n",
    "If one (or more) of these terms have a stochastic component, this can naturally produce the scatter in compact object masses expected because of the stochasticity in supernova explosions \n",
    "(e.g., [Mandel & Mueller 2020](https://ui.adsabs.harvard.edu/abs/2020MNRAS.499.3214M/abstract)).\n",
    "\n",
    "In the following, we explain and calculate each mass loss term separately.\n",
    "\n",
    "## Pulsational-pair instability mass loss $\\Delta M_\\mathrm{PPI}\\equiv M_\\mathrm{PPI}(M_\\mathrm{CO})$\n",
    "\n",
    "This term represents the amount of mass lost in pulsational pair-instability SNe. Although the delay times between pulses (and core-collapse) can be very long (especially at the highest mass end),\n",
    "this is treated as instantaneous mass loss at the time of core-collapse in rapid population synthesis calculations. We do not improve on this here.\n",
    "\n",
    "Many codes use the fit from [Farmer et al. 2019](https://ui.adsabs.harvard.edu/abs/2019ApJ...887...53F/abstract) which however is\n",
    "discontinuous with [Fyer et al. 2012](https://ui.adsabs.harvard.edu/abs/2012ApJ...749...91F/abstract) typically used for core-collapse SNe.\n",
    "However, this is not a fit to the amount of mass *lost*, which is what we need here. One is provided in [Renzo et al. 2020](https://ui.adsabs.harvard.edu/abs/2020A%26A...640A..56R/abstract), \n",
    "but it does not contain the metallicity dependence, which is desirable.\n",
    "Thus, we re-fit the Z-dependent data from [Farmer et al. 2019](https://ui.adsabs.harvard.edu/abs/2019ApJ...887...53F/abstract). \n",
    "\n",
    "Below, `datafile1.txt` is a cleaned up version of `datafile1.txt` available on [zenodo](https://zenodo.org/record/3346593).\n",
    "We note that [Farmer et al. 2019](https://ui.adsabs.harvard.edu/abs/2019ApJ...887...53F/abstract) simulated only He cores,\n",
    "and [Renzo et al. 2020](https://ui.adsabs.harvard.edu/abs/2020A%26A...640A..56R/abstract) showed that the H-rich envelope,\n",
    "if present, is likely to fly away during the first pulse. \n",
    "\n",
    "Therefore to the amount of mass loss $\\Delta M_\\mathrm{PPI}$ we fit here one should *add any residual H-rich envelope present in the star at the time of pulsations*."
   ]
  },
  {
   "cell_type": "code",
   "execution_count": null,
   "metadata": {},
   "outputs": [],
   "source": [
    "datafile = \"datafile1.txt\"\n",
    "src = np.genfromtxt(datafile, skip_header=1)\n",
    "with open(datafile, 'r') as f:\n",
    "    for i, line in enumerate(f):\n",
    "        if i==0:\n",
    "            col = line.split()\n",
    "            print(col)\n",
    "            break"
   ]
  },
  {
   "cell_type": "code",
   "execution_count": null,
   "metadata": {},
   "outputs": [],
   "source": [
    "def linear(x, a, b):\n",
    "    return a*x+b\n",
    "\n",
    "def fitting_func_Z(data, a, b, c, d):\n",
    "    \"\"\" shifted cube plus square term, with the coefficient of the cubic term linear function in log10(Z) \"\"\"\n",
    "    mco = data[0]\n",
    "    Z = data[1]\n",
    "    return linear(np.log10(Z),a,b)*(mco-c)**3+d*(mco-c)**2"
   ]
  },
  {
   "cell_type": "code",
   "execution_count": null,
   "metadata": {},
   "outputs": [],
   "source": [
    "fig=plt.figure(figsize=(12,20))\n",
    "gs = gridspec.GridSpec(7, 1)\n",
    "gs.update(wspace=0.00, hspace=0.00)\n",
    "ax1 = fig.add_subplot(gs[0])\n",
    "ax2 = fig.add_subplot(gs[1])\n",
    "ax3 = fig.add_subplot(gs[2])\n",
    "ax4 = fig.add_subplot(gs[3])\n",
    "ax5 = fig.add_subplot(gs[4])\n",
    "ax6 = fig.add_subplot(gs[5])\n",
    "ax7 = fig.add_subplot(gs[6])\n",
    "axes = [ax1,ax2,ax3,ax4,ax5,ax6,ax7]\n",
    "\n",
    "rainbow = plt.cm.rainbow(np.linspace(0,1,8))\n",
    "\n",
    "# --------------------------------------------------------------------------------------\n",
    "# fit happens here!\n",
    "# reload data\n",
    "Mco = src[:, col.index(\"Mco\")]\n",
    "Z = src[:, col.index('Z')]\n",
    "Mhe = src[:, col.index('Mhe')]\n",
    "dMpulse = src[:, col.index('dMpulse')]\n",
    "# fit only in the PPISN range -- neglect the Z dependence of this range\n",
    "ind_for_fit = (Mco>=38) & (Mco<=60)\n",
    "popt, pcov = curve_fit(fitting_func_Z, [Mco[ind_for_fit], Z[ind_for_fit]], dMpulse[ind_for_fit])\n",
    "print(popt)\n",
    "fit = \"$\\Delta M_\\mathrm{PPI} = (\"+f\"{popt[0]:.4f}\"+r\"\\log_{10}(Z)+\"+f\"{popt[1]:.4f})\"+r\"\\times (M_\\mathrm{CO}+\"+f\"{popt[2]:.1f}\"+\")^3\"+f\"{popt[3]:.4f}\"+r\"\\times (M_\\mathrm{CO}+\"+f\"{popt[2]:.1f}\"+\")^2$\"\n",
    "ax1.set_title(fit, fontsize=20)\n",
    "# --------------------------------------------------------------------------------------\n",
    "\n",
    "for i, metallicity in enumerate(sorted(np.unique(Z))):\n",
    "    ax = axes[i]\n",
    "    ax.axhline(0, 0,1,lw='1', c='k', ls='--', zorder=0)\n",
    "    # first plot data\n",
    "    x = Mco[Z==metallicity]\n",
    "    y = dMpulse[Z==metallicity]\n",
    "    ax.scatter(x, y, color=rainbow[i], label=r\"$Z=\"+f\"{metallicity:.0e}\"+\"$\")    \n",
    "    # then plot fit    \n",
    "    ind_for_fit = (x>=38) & (x<=60)\n",
    "    x = x[ind_for_fit]\n",
    "    ax.plot(x, fitting_func_Z([x,[metallicity]*len(x)],*popt), c=rainbow[i])\n",
    "    # larger range to show the fit\n",
    "    xx = np.linspace(30,60,1000)\n",
    "    yy = fitting_func_Z([xx,[metallicity]*len(xx)],*popt)\n",
    "    ax.plot(xx, yy, c=rainbow[i], ls=\"--\", lw=8, alpha=0.5, zorder=0)\n",
    "    # ----------\n",
    "    ax.legend(fontsize=20, handletextpad=0.1, frameon=True)\n",
    "    ax.set_ylim(-5,42)\n",
    "    ax.set_xlim(30,75)\n",
    "    if ax != ax7:\n",
    "        ax.set_xticklabels([])\n",
    "\n",
    " \n",
    "ax4.set_ylabel(r\"$\\Delta M_\\mathrm{PPI} \\ [M_\\odot]$\")\n",
    "ax7.set_xlabel(r\"$M_\\mathrm{CO} \\ [M_\\odot]$\")\n",
    "plt.savefig('fit1.png')"
   ]
  },
  {
   "cell_type": "markdown",
   "metadata": {},
   "source": [
    "### Notes on the PPI mass loss formula\n",
    "\n",
    "Therefore we recommend the fit above for $38<M_\\mathrm{CO} / M_\\odot<60$ and $\\Delta M_\\mathrm{PPI}=M_\\mathrm{tot}$ for $60\\leq M_\\mathrm{CO} / M_\\odot< 130$ and 0 above.\n",
    "If the pre-pulse star has a H-rich envelope, the entirety of the H-rich envelope should be added to $\\Delta M_\\mathrm{PPI}$ - and then we set $\\Delta M_\\mathrm{NLW} =0$.\n",
    "\n",
    "Note that our fit:\n",
    "\n",
    " - neglects the mild Z-dependence of the edges of the gap (see [Farmer et al. 2019](https://ui.adsabs.harvard.edu/abs/2019ApJ...887...53F/abstract))\n",
    " - neglects the delay between pulses and intra-pulse binary interactions (see [Marchant et al. 2019](https://ui.adsabs.harvard.edu/abs/2019ApJ...882...36M/abstract))\n",
    " - the least massive BHs that can be made post-pulse might not be resolved properly (see [Marchant et al. 2019](https://ui.adsabs.harvard.edu/abs/2019ApJ...882...36M/abstract))"
   ]
  },
  {
   "cell_type": "markdown",
   "metadata": {},
   "source": [
    "## Neutrino caused envelope losses $\\Delta M_{\\rm NLW}$\n",
    "\n",
    "This is the mass loss caused by the [Nadhezin 1980](https://ui.adsabs.harvard.edu/abs/1980Ap%26SS..69..115N/abstract) -\n",
    "[Lovegrove & Woosley](https://ui.adsabs.harvard.edu/search/p_=0&q=%5Elovegrove%202013%20&sort=date%20desc%2C%20bibcode%20desc) mechanism: the losses of\n",
    "the neutrinos (see above) change the gravitational potential of the core and cause a shock wave that can\n",
    "eject loosely bound envelopes. If the envelope is not present (because another mechanism has removed it)\n",
    "before (e.g., binary interactions of pulsational pair instability), this should be zero"
   ]
  },
  {
   "cell_type": "code",
   "execution_count": null,
   "metadata": {},
   "outputs": [],
   "source": [
    "def delta_m_nadhezin_lovegrove_woosley(star):\n",
    "    \"\"\" See Nadhezin 1980, Lovegrove & Woosley 2013, Fernandez et al. 2018, Ivanov & Fernandez 2021 \"\"\"\n",
    "    \"\"\" this should also be zero post-PPISN \"\"\"\n",
    "    if star == RSG:\n",
    "        \"\"\" if H-rich and large radius \"\"\"\n",
    "        return star.mtot - star.mhe\n",
    "    else:\n",
    "        return 0"
   ]
  },
  {
   "cell_type": "markdown",
   "metadata": {},
   "source": [
    "## Core-collapse SN mass loss $\\Delta M_\\mathrm{SN}\\equiv\\Delta M_\\mathrm{SN}(M_\\mathrm{CO})$\n",
    "\n",
    "This is a very uncertain amount of mass loss: the supernova ejecta.\n",
    "We still use the *delayed* algorithm from [Fryer et al. 2012](https://ui.adsabs.harvard.edu/abs/2012ApJ...749...91F/abstract) though these results should be revisited."
   ]
  },
  {
   "cell_type": "code",
   "execution_count": null,
   "metadata": {},
   "outputs": [],
   "source": [
    "def delta_m_SN(star):\n",
    "    \"\"\" this is Fryer+12 \"\"\""
   ]
  },
  {
   "cell_type": "markdown",
   "metadata": {},
   "source": [
    "## Neutrino core losses $\\Delta M_{\\nu, \\mathrm{core}}\\equiv \\Delta M_{\\nu, \\mathrm{core}}(M_\\mathrm{remnant})$\n",
    "\n",
    "When a core collapses it releases about $10^{53}$ ergs of gravitational potential energy to neutrinos.\n",
    "These leave the core. The neutrino emission is estimated following [Fryer et al. 2012](https://ui.adsabs.harvard.edu/abs/2012ApJ...749...91F/abstract), but\n",
    "we cap it at $10^{54}\\ \\mathrm{erg}/c^2\\simeq0.5\\,M_\\odot$."
   ]
  },
  {
   "cell_type": "code",
   "execution_count": null,
   "metadata": {},
   "outputs": [],
   "source": [
    "def delta_m_neutrino_core_losses(m_compact_object):\n",
    "    \"\"\" the amount of mass lost to neutrinos correspond to the minimum between 0.1 times the compact object and 0.5Msun~10^54 ergs/c^2 \"\"\"\n",
    "    return min(0.1*m_compact_object, 0.5)"
   ]
  },
  {
   "cell_type": "markdown",
   "metadata": {},
   "source": [
    "# Miscellanea and sanity checks\n",
    "\n",
    "One should always check that:\n",
    "\n",
    "$$ M_{\\rm remnant} \\leq M_{\\rm tot} $$\n",
    "\n",
    "The fallback fraction, for kick-related problems can than be easily calculated as:\n",
    "\n",
    "$$ f_b = (M_{\\rm tot}-M_{\\rm remnant})/M_{\\rm tot} $$\n",
    "\n",
    "Moreover, if the PPISN remove the H-rich envelope, than $\\Delta M_{\\rm NLW}=0$ (there is no envelope to be lost!)"
   ]
  },
  {
   "cell_type": "code",
   "execution_count": null,
   "metadata": {},
   "outputs": [],
   "source": [
    "# Farmer+19 Eq. 1\n",
    "def farmer19(mco, Z=0.001):\n",
    "    \"\"\"\n",
    "    gets CO core mass in Msun units, returns the value of Eq. 1 from Farmer+19\n",
    "    If a metallicity Z is not given, assume the baseline value of Farmer+19\n",
    "    N.B. this fit is accurate at ~20% level\n",
    "    \"\"\"\n",
    "    mco = np.atleast_1d(mco)\n",
    "    # initialize at zero, takes care of PISN\n",
    "    m_remnant = np.zeros(len(mco))\n",
    "    # overwrite low mass\n",
    "    i = mco<38\n",
    "    m_remnant[i] = mco[i]+4\n",
    "    # overwrite PPISN\n",
    "    j = (mco >= 38) & (mco<=60)\n",
    "    # fit coefficients\n",
    "    a1 = -0.096\n",
    "    a2 = 8.564\n",
    "    a3 = -2.07\n",
    "    a4 = -152.97\n",
    "    m_remnant[j] = a1*mco[j]**2+a2*mco[j]+a3*np.log10(Z)+a4\n",
    "    # overwrite the highest most masses -- direct collapse\n",
    "    k = mco >= 130\n",
    "    m_remnant[k] = mco[k]\n",
    "    return m_remnant\n",
    "\n",
    "# minimum post PPI BH mass\n",
    "a1 = -0.096\n",
    "a2 = 8.564\n",
    "a3 = -2.07\n",
    "a4 = -152.97\n",
    "\n",
    "mco = 60\n",
    "m_remnant = a1*mco**2+a2*mco+a3*np.log10(0.001)+a4\n",
    "print(m_remnant)\n",
    "\n",
    "fig=plt.figure()\n",
    "gs = gridspec.GridSpec(100, 110)\n",
    "ax = fig.add_subplot(gs[:,:])\n",
    "\n",
    "mco = np.linspace(25, 250, 2000)\n",
    "m_bh = farmer19(mco)\n",
    "\n",
    "ax.scatter(mco, m_bh)\n",
    "ax.set_xlabel(r\"$M_\\mathrm{CO} \\ [M_\\odot]$\")\n",
    "ax.set_ylabel(r\"$M_\\mathrm{remnant}\\ [M_\\odot]$\")"
   ]
  }
 ],
 "metadata": {
  "kernelspec": {
   "argv": [
    "/usr/bin/python3",
    "-m",
    "ipykernel_launcher",
    "-f",
    "{connection_file}"
   ],
   "display_name": "Python 3",
   "env": null,
   "interrupt_mode": "signal",
   "language": "python",
   "metadata": null,
   "name": "python3"
  },
  "name": "fit_DM_PPI.ipynb"
 },
 "nbformat": 4,
 "nbformat_minor": 2
}
